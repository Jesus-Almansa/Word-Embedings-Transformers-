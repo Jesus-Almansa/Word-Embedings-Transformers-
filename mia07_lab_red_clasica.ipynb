{
 "cells": [
  {
   "attachments": {},
   "cell_type": "markdown",
   "metadata": {
    "id": "ktFg2jj3jTE6"
   },
   "source": [
    "# ACTIVIDAD DE CLASIFICACIÓN DE TEXTO"
   ]
  },
  {
   "attachments": {},
   "cell_type": "markdown",
   "metadata": {
    "id": "MZ-OuW5DiLJs"
   },
   "source": [
    "En esta actividad vamos a trabajar en clasificar textos. Se recorrerá todo el proceso desde traer el dataset hasta proceder a dicha clasificación. Durante la actividad se llevarán a cabo muchos procesos como la creación de un vocabulario, el uso de embeddings y la creación de modelos.\n",
    "\n",
    "Las cuestiones presentes en esta actividad están basadas en un Notebook creado por François Chollet, uno de los creadores de Keras y autor del libro \"Deep Learning with Python\". \n",
    "\n",
    "En este Notebook se trabaja con el dataset \"Newsgroup20\" que contiene aproximadamente 20000 mensajes que pertenecen a 20 categorías diferentes.\n",
    "\n",
    "El objetivo es entender los conceptos que se trabajan y ser capaz de hacer pequeñas experimentaciones para mejorar el Notebook creado."
   ]
  },
  {
   "attachments": {},
   "cell_type": "markdown",
   "metadata": {
    "id": "hytURWLLjZvT"
   },
   "source": [
    "# Librerías"
   ]
  },
  {
   "cell_type": "code",
   "execution_count": 1,
   "metadata": {
    "id": "DbxRuvOwkzSs"
   },
   "outputs": [],
   "source": [
    "import numpy as np\n",
    "import tensorflow as tf\n",
    "from tensorflow import keras"
   ]
  },
  {
   "attachments": {},
   "cell_type": "markdown",
   "metadata": {
    "id": "PXfYbCflkQYy"
   },
   "source": [
    "# Descarga de Datos"
   ]
  },
  {
   "cell_type": "code",
   "execution_count": 2,
   "metadata": {
    "id": "e-1ZhOf3lB_A"
   },
   "outputs": [],
   "source": [
    "data_path = keras.utils.get_file(\n",
    "    \"news20.tar.gz\",\n",
    "    \"http://www.cs.cmu.edu/afs/cs.cmu.edu/project/theo-20/www/data/news20.tar.gz\",\n",
    "    untar=True,\n",
    ")"
   ]
  },
  {
   "cell_type": "code",
   "execution_count": 3,
   "metadata": {
    "colab": {
     "base_uri": "https://localhost:8080/"
    },
    "id": "l3ygvoWhlCYj",
    "outputId": "e8fcf46c-12fc-4bc3-d112-b273633b4415"
   },
   "outputs": [
    {
     "name": "stdout",
     "output_type": "stream",
     "text": [
      "Number of directories: 20\n",
      "Directory names: ['alt.atheism', 'comp.graphics', 'comp.os.ms-windows.misc', 'comp.sys.ibm.pc.hardware', 'comp.sys.mac.hardware', 'comp.windows.x', 'misc.forsale', 'rec.autos', 'rec.motorcycles', 'rec.sport.baseball', 'rec.sport.hockey', 'sci.crypt', 'sci.electronics', 'sci.med', 'sci.space', 'soc.religion.christian', 'talk.politics.guns', 'talk.politics.mideast', 'talk.politics.misc', 'talk.religion.misc']\n"
     ]
    }
   ],
   "source": [
    "import os\n",
    "import pathlib\n",
    "\n",
    "#Estructura de directorios del dataset\n",
    "data_dir = pathlib.Path(data_path).parent / \"20_newsgroup\"\n",
    "dirnames = os.listdir(data_dir)\n",
    "print(\"Number of directories:\", len(dirnames))\n",
    "print(\"Directory names:\", dirnames)"
   ]
  },
  {
   "cell_type": "code",
   "execution_count": 4,
   "metadata": {},
   "outputs": [
    {
     "name": "stdout",
     "output_type": "stream",
     "text": [
      "C:\\Users\\JT\\.keras\\datasets\\20_newsgroup\n"
     ]
    }
   ],
   "source": [
    "print(data_dir)"
   ]
  },
  {
   "cell_type": "code",
   "execution_count": 5,
   "metadata": {
    "colab": {
     "base_uri": "https://localhost:8080/"
    },
    "id": "OG8rjgOFlcaV",
    "outputId": "8ba4fa96-0058-41c9-ed63-5532b7ac04cf"
   },
   "outputs": [
    {
     "name": "stdout",
     "output_type": "stream",
     "text": [
      "Number of files in comp.graphics: 1000\n",
      "Some example filenames: ['37261', '37913', '37914', '37915', '37916']\n"
     ]
    }
   ],
   "source": [
    "#Algunos archivos de la categoria \"com.graphics\"\n",
    "fnames = os.listdir(data_dir / \"comp.graphics\")\n",
    "print(\"Number of files in comp.graphics:\", len(fnames))\n",
    "print(\"Some example filenames:\", fnames[:5])"
   ]
  },
  {
   "cell_type": "code",
   "execution_count": 6,
   "metadata": {
    "colab": {
     "base_uri": "https://localhost:8080/"
    },
    "id": "8ox6s6z9lgps",
    "outputId": "c7a40ef1-6212-481e-e822-a3570f1c6837"
   },
   "outputs": [
    {
     "name": "stdout",
     "output_type": "stream",
     "text": [
      "Xref: cantaloupe.srv.cs.cmu.edu comp.graphics:37261 alt.graphics:519 comp.graphics.animation:2614\n",
      "Path: cantaloupe.srv.cs.cmu.edu!das-news.harvard.edu!ogicse!uwm.edu!zaphod.mps.ohio-state.edu!darwin.sura.net!dtix.dt.navy.mil!oasys!lipman\n",
      "From: lipman@oasys.dt.navy.mil (Robert Lipman)\n",
      "Newsgroups: comp.graphics,alt.graphics,comp.graphics.animation\n",
      "Subject: CALL FOR PRESENTATIONS: Navy SciViz/VR Seminar\n",
      "Message-ID: <32850@oasys.dt.navy.mil>\n",
      "Date: 19 Mar 93 20:10:23 GMT\n",
      "Article-I.D.: oasys.32850\n",
      "Expires: 30 Apr 93 04:00:00 GMT\n",
      "Reply-To: lipman@oasys.dt.navy.mil (Robert Lipman)\n",
      "Followup-To: comp.graphics\n",
      "Distribution: usa\n",
      "Organization: Carderock Division, NSWC, Bethesda, MD\n",
      "Lines: 65\n",
      "\n",
      "\n",
      "\t\t\tCALL FOR PRESENTATIONS\n",
      "\t\n",
      "      NAVY SCIENTIFIC VISUALIZATION AND VIRTUAL REALITY SEMINAR\n",
      "\n",
      "\t\t\tTuesday, June 22, 1993\n",
      "\n",
      "\t    Carderock Division, Naval Surface Warfare Center\n",
      "\t      (formerly the David Taylor Research Center)\n",
      "\t\t\t  Bethesda, Maryland\n",
      "\n",
      "SPONSOR: NESS (Navy Engineering Software System) is sponsoring a \n",
      "one-day Navy Scientific Visualization and Virtual Reality Seminar.  \n",
      "The purpose of the seminar is to present and exchange information for\n",
      "Navy-related scientific visualization and virtual reality programs, \n",
      "research, developments, and applications.\n",
      "\n",
      "PRESENTATIONS: Presentations are solicited on all aspects of \n",
      "Navy-related scientific visualization and virtual reality.  All \n",
      "current work, works-in-progress, and proposed work by Navy \n",
      "organizations will be considered.  Four types of presentations are \n",
      "available.\n",
      "\n",
      "     1. Regular presentation: 20-30 minutes in length\n",
      "     2. Short presentation: 10 minutes in length\n",
      "     3. Video presentation: a stand-alone videotape (author need not \n",
      "\tattend the seminar)\n",
      "     4. Scientific visualization or virtual reality demonstration (BYOH)\n",
      "\n",
      "Accepted presentations will not be published in any proceedings, \n",
      "however, viewgraphs and other materials will be reproduced for \n",
      "seminar attendees.\n",
      "\n",
      "ABSTRACTS: Authors should submit a one page abstract and/or videotape to:\n",
      "\n",
      "     Robert Lipman\n",
      "     Naval Surface Warfare Center, Carderock Division\n",
      "     Code 2042\n",
      "     Bethesda, Maryland  20084-5000\n",
      "\n",
      "     VOICE (301) 227-3618;  FAX (301) 227-5753  \n",
      "     E-MAIL  lipman@oasys.dt.navy.mil\n",
      "\n",
      "Authors should include the type of presentation, their affiliations, \n",
      "addresses, telephone and FAX numbers, and addresses.  Multi-author \n",
      "papers should designate one point of contact.\n",
      "\n",
      "DEADLINES: The abstact submission deadline is April 30, 1993.  \n",
      "Notification of acceptance will be sent by May 14, 1993.  \n",
      "Materials for reproduction must be received by June 1, 1993.\n",
      "\n",
      "For further information, contact Robert Lipman at the above address.\n",
      "\n",
      "\t  PLEASE DISTRIBUTE AS WIDELY AS POSSIBLE, THANKS.\n",
      "\n",
      "\n",
      "\n",
      "\n",
      "Robert Lipman                     | Internet: lipman@oasys.dt.navy.mil\n",
      "David Taylor Model Basin - CDNSWC |       or: lip@ocean.dt.navy.mil\n",
      "Computational Signatures and      | Voicenet: (301) 227-3618\n",
      "   Structures Group, Code 2042    | Factsnet: (301) 227-5753\n",
      "Bethesda, Maryland  20084-5000    | Phishnet: stockings@long.legs\n",
      "\t\t\t\t   \n",
      "The sixth sick shiek's sixth sheep's sick.\n",
      "\n"
     ]
    }
   ],
   "source": [
    "#Ejemplo de un texto de la categoría \"com.graphics\"\n",
    "print(open(data_dir / \"comp.graphics\" / \"37261\").read())"
   ]
  },
  {
   "cell_type": "code",
   "execution_count": 7,
   "metadata": {
    "colab": {
     "base_uri": "https://localhost:8080/"
    },
    "id": "vUbbjI8plaG0",
    "outputId": "c538adab-845e-42d5-a091-8e6403e77889"
   },
   "outputs": [
    {
     "name": "stdout",
     "output_type": "stream",
     "text": [
      "Number of files in talk.politics.misc: 1000\n",
      "Some example filenames: ['124146', '176845', '176846', '176847', '176849']\n"
     ]
    }
   ],
   "source": [
    "#Algunos archivos de la categoria \"talk.politics.misc\"\n",
    "fnames = os.listdir(data_dir / \"talk.politics.misc\")\n",
    "print(\"Number of files in talk.politics.misc:\", len(fnames))\n",
    "print(\"Some example filenames:\", fnames[:5])"
   ]
  },
  {
   "cell_type": "code",
   "execution_count": 8,
   "metadata": {
    "colab": {
     "base_uri": "https://localhost:8080/"
    },
    "id": "izZGWhpklCbI",
    "outputId": "a9483dfd-8d78-46bd-863e-c7d992b645d4"
   },
   "outputs": [
    {
     "name": "stdout",
     "output_type": "stream",
     "text": [
      "Xref: cantaloupe.srv.cs.cmu.edu talk.politics.guns:54219 talk.politics.misc:178463\n",
      "Newsgroups: talk.politics.guns,talk.politics.misc\n",
      "Path: cantaloupe.srv.cs.cmu.edu!magnesium.club.cc.cmu.edu!news.sei.cmu.edu!cis.ohio-state.edu!magnus.acs.ohio-state.edu!usenet.ins.cwru.edu!agate!spool.mu.edu!darwin.sura.net!martha.utcc.utk.edu!FRANKENSTEIN.CE.UTK.EDU!VEAL\n",
      "From: VEAL@utkvm1.utk.edu (David Veal)\n",
      "Subject: Re: Proof of the Viability of Gun Control\n",
      "Message-ID: <VEAL.749.735192116@utkvm1.utk.edu>\n",
      "Lines: 21\n",
      "Sender: usenet@martha.utcc.utk.edu (USENET News System)\n",
      "Organization: University of Tennessee Division of Continuing Education\n",
      "References: <1qpbqd$ntl@access.digex.net> <C5otvp.ItL@magpie.linknet.com>\n",
      "Date: Mon, 19 Apr 1993 04:01:56 GMT\n",
      "\n",
      "[alt.drugs and alt.conspiracy removed from newsgroups line.]\n",
      "\n",
      "In article <C5otvp.ItL@magpie.linknet.com> neal@magpie.linknet.com (Neal) writes:\n",
      "\n",
      ">   Once the National Guard has been called into federal service,\n",
      ">it is under the command of the present. Tha National Guard, though\n",
      ">defined as the \"Militia\" in the statutes, is actually a reserve component\n",
      ">of the United State Army, and was formed pursuant to the power of Congress\n",
      ">to raise and support Armies.\n",
      "\n",
      "       That's the really cute thing about saying the 2nd amendment\n",
      "only covers the national guard, because that would mean that it\n",
      "essentially prohibits the federal government from disarming a branch\n",
      "of the federal government.\n",
      "\n",
      "       Sounds like a real limit to federal power to me.\n",
      "------------------------------------------------------------------------\n",
      "David Veal Univ. of Tenn. Div. of Cont. Education Info. Services Group\n",
      "PA146008@utkvm1.utk.edu - \"I still remember the way you laughed, the day\n",
      "your pushed me down the elevator shaft;  I'm beginning to think you don't\n",
      "love me anymore.\" - \"Weird Al\"\n",
      "\n"
     ]
    }
   ],
   "source": [
    "#Ejemplo de un texto de la categoría \"talk.politics.misc\"\n",
    "print(open(data_dir / \"talk.politics.misc\" / \"178463\").read())"
   ]
  },
  {
   "cell_type": "code",
   "execution_count": 9,
   "metadata": {
    "colab": {
     "base_uri": "https://localhost:8080/"
    },
    "id": "33Ay5U6blCd1",
    "outputId": "497818bb-b7b7-4506-967b-c119287a7412"
   },
   "outputs": [
    {
     "name": "stdout",
     "output_type": "stream",
     "text": [
      "Processing alt.atheism, 1000 files found\n",
      "Processing comp.graphics, 1000 files found\n",
      "Processing comp.os.ms-windows.misc, 1000 files found\n",
      "Processing comp.sys.ibm.pc.hardware, 1000 files found\n",
      "Processing comp.sys.mac.hardware, 1000 files found\n",
      "Processing comp.windows.x, 1000 files found\n",
      "Processing misc.forsale, 1000 files found\n",
      "Processing rec.autos, 1000 files found\n",
      "Processing rec.motorcycles, 1000 files found\n",
      "Processing rec.sport.baseball, 1000 files found\n",
      "Processing rec.sport.hockey, 1000 files found\n",
      "Processing sci.crypt, 1000 files found\n",
      "Processing sci.electronics, 1000 files found\n",
      "Processing sci.med, 1000 files found\n",
      "Processing sci.space, 1000 files found\n",
      "Processing soc.religion.christian, 997 files found\n",
      "Processing talk.politics.guns, 1000 files found\n",
      "Processing talk.politics.mideast, 1000 files found\n",
      "Processing talk.politics.misc, 1000 files found\n",
      "Processing talk.religion.misc, 1000 files found\n",
      "Classes: ['alt.atheism', 'comp.graphics', 'comp.os.ms-windows.misc', 'comp.sys.ibm.pc.hardware', 'comp.sys.mac.hardware', 'comp.windows.x', 'misc.forsale', 'rec.autos', 'rec.motorcycles', 'rec.sport.baseball', 'rec.sport.hockey', 'sci.crypt', 'sci.electronics', 'sci.med', 'sci.space', 'soc.religion.christian', 'talk.politics.guns', 'talk.politics.mideast', 'talk.politics.misc', 'talk.religion.misc']\n",
      "Number of samples: 19997\n"
     ]
    }
   ],
   "source": [
    "samples = []\n",
    "labels = []\n",
    "class_names = []\n",
    "class_index = 0\n",
    "for dirname in sorted(os.listdir(data_dir)):\n",
    "    class_names.append(dirname)\n",
    "    dirpath = data_dir / dirname\n",
    "    fnames = os.listdir(dirpath)\n",
    "    print(\"Processing %s, %d files found\" % (dirname, len(fnames)))\n",
    "    for fname in fnames:\n",
    "        fpath = dirpath / fname\n",
    "        f = open(fpath, encoding=\"latin-1\")\n",
    "        content = f.read()\n",
    "        lines = content.split(\"\\n\")\n",
    "        lines = lines[10:]\n",
    "        content = \"\\n\".join(lines)\n",
    "        samples.append(content)\n",
    "        labels.append(class_index)\n",
    "    class_index += 1\n",
    "\n",
    "print(\"Classes:\", class_names)\n",
    "print(\"Number of samples:\", len(samples))"
   ]
  },
  {
   "attachments": {},
   "cell_type": "markdown",
   "metadata": {
    "id": "n2pmvE6gMcxT"
   },
   "source": [
    "# Mezclando los datos para separarlos en Traning y Test"
   ]
  },
  {
   "cell_type": "code",
   "execution_count": 10,
   "metadata": {
    "id": "DYX7x-k_lCgZ"
   },
   "outputs": [],
   "source": [
    "# Shuffle the data\n",
    "seed = 1337\n",
    "rng = np.random.RandomState(seed)\n",
    "rng.shuffle(samples)\n",
    "rng = np.random.RandomState(seed)\n",
    "rng.shuffle(labels)\n",
    "\n",
    "# Extract a training & validation split\n",
    "validation_split = 0.2\n",
    "num_validation_samples = int(validation_split * len(samples))\n",
    "train_samples = samples[:-num_validation_samples]\n",
    "val_samples = samples[-num_validation_samples:]\n",
    "train_labels = labels[:-num_validation_samples]\n",
    "val_labels = labels[-num_validation_samples:]"
   ]
  },
  {
   "attachments": {},
   "cell_type": "markdown",
   "metadata": {
    "id": "IktOtKfpNx8E"
   },
   "source": [
    "# Tokenización de las palabras con TextVectorization "
   ]
  },
  {
   "cell_type": "code",
   "execution_count": 11,
   "metadata": {
    "id": "QjHgQPX8lCjO"
   },
   "outputs": [],
   "source": [
    "from tensorflow.keras.layers import TextVectorization\n",
    "vectorizer = TextVectorization(max_tokens=20000, output_sequence_length=200)\n",
    "text_ds = tf.data.Dataset.from_tensor_slices(train_samples).batch(128)\n",
    "vectorizer.adapt(text_ds)"
   ]
  },
  {
   "cell_type": "code",
   "execution_count": 12,
   "metadata": {
    "colab": {
     "base_uri": "https://localhost:8080/"
    },
    "id": "vIWC37s5smZ4",
    "outputId": "8ff450dd-7dc8-466b-cb7f-5d53e8834f42"
   },
   "outputs": [
    {
     "data": {
      "text/plain": [
       "['', '[UNK]', 'the', 'to', 'of']"
      ]
     },
     "execution_count": 12,
     "metadata": {},
     "output_type": "execute_result"
    }
   ],
   "source": [
    "vectorizer.get_vocabulary()[:5]"
   ]
  },
  {
   "cell_type": "code",
   "execution_count": 13,
   "metadata": {
    "colab": {
     "base_uri": "https://localhost:8080/"
    },
    "id": "vit8TPqTvmwS",
    "outputId": "fe7fb758-3b10-41c1-a45e-5d332fa75acb"
   },
   "outputs": [
    {
     "data": {
      "text/plain": [
       "20000"
      ]
     },
     "execution_count": 13,
     "metadata": {},
     "output_type": "execute_result"
    }
   ],
   "source": [
    "len(vectorizer.get_vocabulary())"
   ]
  },
  {
   "attachments": {},
   "cell_type": "markdown",
   "metadata": {
    "id": "2O-FXA9wPVkg"
   },
   "source": [
    "# Viendo la salida de Vectorizer"
   ]
  },
  {
   "cell_type": "code",
   "execution_count": 14,
   "metadata": {
    "colab": {
     "base_uri": "https://localhost:8080/"
    },
    "id": "rseIF0fLmyJ0",
    "outputId": "a368a7e9-da0f-4a79-a7e5-33488951680c"
   },
   "outputs": [
    {
     "data": {
      "text/plain": [
       "array([   2, 3457, 1682,   15,    2, 5776], dtype=int64)"
      ]
     },
     "execution_count": 14,
     "metadata": {},
     "output_type": "execute_result"
    }
   ],
   "source": [
    "output = vectorizer([[\"the cat sat on the mat\"]])\n",
    "output.numpy()[0, :6]"
   ]
  },
  {
   "cell_type": "code",
   "execution_count": 15,
   "metadata": {
    "colab": {
     "base_uri": "https://localhost:8080/"
    },
    "id": "Wsr4AQtBFArV",
    "outputId": "09267722-32fe-4833-cd2d-65c67938e3a7"
   },
   "outputs": [
    {
     "data": {
      "text/plain": [
       "<tf.Tensor: shape=(1, 200), dtype=int64, numpy=\n",
       "array([[   2, 3457, 1682,   15,    2, 5776,    0,    0,    0,    0,    0,\n",
       "           0,    0,    0,    0,    0,    0,    0,    0,    0,    0,    0,\n",
       "           0,    0,    0,    0,    0,    0,    0,    0,    0,    0,    0,\n",
       "           0,    0,    0,    0,    0,    0,    0,    0,    0,    0,    0,\n",
       "           0,    0,    0,    0,    0,    0,    0,    0,    0,    0,    0,\n",
       "           0,    0,    0,    0,    0,    0,    0,    0,    0,    0,    0,\n",
       "           0,    0,    0,    0,    0,    0,    0,    0,    0,    0,    0,\n",
       "           0,    0,    0,    0,    0,    0,    0,    0,    0,    0,    0,\n",
       "           0,    0,    0,    0,    0,    0,    0,    0,    0,    0,    0,\n",
       "           0,    0,    0,    0,    0,    0,    0,    0,    0,    0,    0,\n",
       "           0,    0,    0,    0,    0,    0,    0,    0,    0,    0,    0,\n",
       "           0,    0,    0,    0,    0,    0,    0,    0,    0,    0,    0,\n",
       "           0,    0,    0,    0,    0,    0,    0,    0,    0,    0,    0,\n",
       "           0,    0,    0,    0,    0,    0,    0,    0,    0,    0,    0,\n",
       "           0,    0,    0,    0,    0,    0,    0,    0,    0,    0,    0,\n",
       "           0,    0,    0,    0,    0,    0,    0,    0,    0,    0,    0,\n",
       "           0,    0,    0,    0,    0,    0,    0,    0,    0,    0,    0,\n",
       "           0,    0,    0,    0,    0,    0,    0,    0,    0,    0,    0,\n",
       "           0,    0]], dtype=int64)>"
      ]
     },
     "execution_count": 15,
     "metadata": {},
     "output_type": "execute_result"
    }
   ],
   "source": [
    "output"
   ]
  },
  {
   "cell_type": "code",
   "execution_count": 16,
   "metadata": {
    "id": "SL5ag8UamzwL"
   },
   "outputs": [],
   "source": [
    "voc = vectorizer.get_vocabulary()\n",
    "word_index = dict(zip(voc, range(len(voc))))"
   ]
  },
  {
   "cell_type": "code",
   "execution_count": 17,
   "metadata": {
    "colab": {
     "base_uri": "https://localhost:8080/"
    },
    "id": "08v8SKcsn3lf",
    "outputId": "0e9272d0-bec1-4326-90fe-4daea19f7f65"
   },
   "outputs": [
    {
     "data": {
      "text/plain": [
       "[2, 3457, 1682, 15, 2, 5776]"
      ]
     },
     "execution_count": 17,
     "metadata": {},
     "output_type": "execute_result"
    }
   ],
   "source": [
    "test = [\"the\", \"cat\", \"sat\", \"on\", \"the\", \"mat\"]\n",
    "[word_index[w] for w in test]"
   ]
  },
  {
   "attachments": {},
   "cell_type": "markdown",
   "metadata": {
    "id": "1eBhadrvOTNZ"
   },
   "source": [
    "# Tokenización de los datos de entrenamiento y validación"
   ]
  },
  {
   "cell_type": "code",
   "execution_count": 18,
   "metadata": {
    "id": "W26LUr2dKTOj"
   },
   "outputs": [],
   "source": [
    "x_train = vectorizer(np.array([[s] for s in train_samples])).numpy()\n",
    "x_val = vectorizer(np.array([[s] for s in val_samples])).numpy()\n",
    "\n",
    "y_train = np.array(train_labels)\n",
    "y_val = np.array(val_labels)"
   ]
  },
  {
   "attachments": {},
   "cell_type": "markdown",
   "metadata": {
    "id": "q3QVIb84Olda"
   },
   "source": [
    "# Creación y entrenamiento del modelo. Red Neuronal Clásica"
   ]
  },
  {
   "cell_type": "code",
   "execution_count": 19,
   "metadata": {
    "id": "B9VxI-i69cdB"
   },
   "outputs": [],
   "source": [
    "modeloClasico = keras.models.Sequential()\n",
    "modeloClasico.add(keras.layers.Embedding(20000, 10, input_length=200))\n",
    "modeloClasico.add(keras.layers.Flatten())\n",
    "modeloClasico.add(keras.layers.Dense(512, activation='relu'))\n",
    "modeloClasico.add(keras.layers.Dropout(0.3))\n",
    "modeloClasico.add(keras.layers.Dense(20, activation='softmax'))"
   ]
  },
  {
   "cell_type": "code",
   "execution_count": 20,
   "metadata": {},
   "outputs": [
    {
     "name": "stdout",
     "output_type": "stream",
     "text": [
      "Epoch 1/20\n",
      "125/125 [==============================] - 2s 9ms/step - loss: 2.8574 - acc: 0.1048 - val_loss: 2.5744 - val_acc: 0.1630\n",
      "Epoch 2/20\n",
      "125/125 [==============================] - 1s 8ms/step - loss: 2.2618 - acc: 0.2591 - val_loss: 2.0629 - val_acc: 0.3031\n",
      "Epoch 3/20\n",
      "125/125 [==============================] - 1s 8ms/step - loss: 1.6975 - acc: 0.4541 - val_loss: 1.6632 - val_acc: 0.4364\n",
      "Epoch 4/20\n",
      "125/125 [==============================] - 1s 8ms/step - loss: 1.2180 - acc: 0.6280 - val_loss: 1.3724 - val_acc: 0.5384\n",
      "Epoch 5/20\n",
      "125/125 [==============================] - 1s 8ms/step - loss: 0.8378 - acc: 0.7548 - val_loss: 1.1706 - val_acc: 0.6107\n",
      "Epoch 6/20\n",
      "125/125 [==============================] - 1s 8ms/step - loss: 0.5686 - acc: 0.8379 - val_loss: 1.0461 - val_acc: 0.6462\n",
      "Epoch 7/20\n",
      "125/125 [==============================] - 1s 8ms/step - loss: 0.4031 - acc: 0.8858 - val_loss: 1.0109 - val_acc: 0.6664\n",
      "Epoch 8/20\n",
      "125/125 [==============================] - 1s 8ms/step - loss: 0.2959 - acc: 0.9181 - val_loss: 0.9934 - val_acc: 0.6822\n",
      "Epoch 9/20\n",
      "125/125 [==============================] - 1s 8ms/step - loss: 0.2265 - acc: 0.9339 - val_loss: 1.0338 - val_acc: 0.6882\n",
      "Epoch 10/20\n",
      "125/125 [==============================] - 1s 8ms/step - loss: 0.1851 - acc: 0.9455 - val_loss: 1.0199 - val_acc: 0.6957\n",
      "Epoch 11/20\n",
      "125/125 [==============================] - 1s 8ms/step - loss: 0.1527 - acc: 0.9526 - val_loss: 1.0402 - val_acc: 0.6987\n",
      "Epoch 12/20\n",
      "125/125 [==============================] - 1s 8ms/step - loss: 0.1322 - acc: 0.9561 - val_loss: 1.0699 - val_acc: 0.6974\n",
      "Epoch 13/20\n",
      "125/125 [==============================] - 1s 8ms/step - loss: 0.1190 - acc: 0.9600 - val_loss: 1.1005 - val_acc: 0.7024\n",
      "Epoch 14/20\n",
      "125/125 [==============================] - 1s 8ms/step - loss: 0.1088 - acc: 0.9613 - val_loss: 1.1282 - val_acc: 0.6977\n",
      "Epoch 15/20\n",
      "125/125 [==============================] - 1s 10ms/step - loss: 0.1012 - acc: 0.9627 - val_loss: 1.1337 - val_acc: 0.7029\n",
      "Epoch 16/20\n",
      "125/125 [==============================] - 1s 9ms/step - loss: 0.0953 - acc: 0.9646 - val_loss: 1.1497 - val_acc: 0.7084\n",
      "Epoch 17/20\n",
      "125/125 [==============================] - 1s 9ms/step - loss: 0.0882 - acc: 0.9656 - val_loss: 1.1866 - val_acc: 0.7032\n",
      "Epoch 18/20\n",
      "125/125 [==============================] - 1s 9ms/step - loss: 0.0868 - acc: 0.9656 - val_loss: 1.1776 - val_acc: 0.7047\n",
      "Epoch 19/20\n",
      "125/125 [==============================] - 1s 9ms/step - loss: 0.0813 - acc: 0.9666 - val_loss: 1.2005 - val_acc: 0.7017\n",
      "Epoch 20/20\n",
      "125/125 [==============================] - 1s 9ms/step - loss: 0.0804 - acc: 0.9658 - val_loss: 1.2041 - val_acc: 0.6954\n",
      "Model: \"sequential\"\n",
      "_________________________________________________________________\n",
      " Layer (type)                Output Shape              Param #   \n",
      "=================================================================\n",
      " embedding (Embedding)       (None, 200, 10)           200000    \n",
      "                                                                 \n",
      " flatten (Flatten)           (None, 2000)              0         \n",
      "                                                                 \n",
      " dense (Dense)               (None, 512)               1024512   \n",
      "                                                                 \n",
      " dropout (Dropout)           (None, 512)               0         \n",
      "                                                                 \n",
      " dense_1 (Dense)             (None, 20)                10260     \n",
      "                                                                 \n",
      "=================================================================\n",
      "Total params: 1,234,772\n",
      "Trainable params: 1,234,772\n",
      "Non-trainable params: 0\n",
      "_________________________________________________________________\n",
      "None\n"
     ]
    }
   ],
   "source": [
    "modeloClasico.compile(optimizer='adam', loss='binary_crossentropy', metrics=['accuracy'])\n",
    "modeloClasico.compile(loss=\"sparse_categorical_crossentropy\", optimizer=\"rmsprop\", metrics=[\"acc\"])\n",
    "modeloClasico.fit(x_train, y_train, batch_size=128, epochs=20, validation_data=(x_val, y_val))\n",
    "print(modeloClasico.summary())"
   ]
  },
  {
   "attachments": {},
   "cell_type": "markdown",
   "metadata": {
    "id": "v4x_4eXJVrnX"
   },
   "source": [
    "# Evaluación"
   ]
  },
  {
   "cell_type": "code",
   "execution_count": 21,
   "metadata": {
    "colab": {
     "base_uri": "https://localhost:8080/",
     "height": 52
    },
    "id": "fgg7KnoioNYc",
    "outputId": "78d936fe-0c57-461b-9355-0cd2774e7726"
   },
   "outputs": [
    {
     "name": "stdout",
     "output_type": "stream",
     "text": [
      "1/1 [==============================] - 0s 63ms/step\n"
     ]
    },
    {
     "data": {
      "text/plain": [
       "'comp.graphics'"
      ]
     },
     "execution_count": 21,
     "metadata": {},
     "output_type": "execute_result"
    }
   ],
   "source": [
    "string_input = keras.Input(shape=(1,), dtype=\"string\")\n",
    "x = vectorizer(string_input)\n",
    "preds = modeloClasico(x)\n",
    "end_to_end_model = keras.Model(string_input, preds)\n",
    "\n",
    "probabilities = end_to_end_model.predict(\n",
    "    [[\"this message is about computer graphics and 3D modeling\"]]\n",
    ")\n",
    "\n",
    "class_names[np.argmax(probabilities[0])]"
   ]
  },
  {
   "cell_type": "code",
   "execution_count": 22,
   "metadata": {
    "colab": {
     "base_uri": "https://localhost:8080/",
     "height": 52
    },
    "id": "R-EXfK6qoSAd",
    "outputId": "f3060f75-8ed6-4eb3-aaad-e9d18b80ab9a"
   },
   "outputs": [
    {
     "name": "stdout",
     "output_type": "stream",
     "text": [
      "1/1 [==============================] - 0s 20ms/step\n"
     ]
    },
    {
     "data": {
      "text/plain": [
       "'talk.politics.misc'"
      ]
     },
     "execution_count": 22,
     "metadata": {},
     "output_type": "execute_result"
    }
   ],
   "source": [
    "probabilities = end_to_end_model.predict(\n",
    "    [[\"politics and federal courts law that people understand with politician and elects congressman\"]]\n",
    ")\n",
    "\n",
    "class_names[np.argmax(probabilities[0])]"
   ]
  },
  {
   "cell_type": "code",
   "execution_count": 23,
   "metadata": {
    "colab": {
     "base_uri": "https://localhost:8080/",
     "height": 52
    },
    "id": "QByfYDv4rGqv",
    "outputId": "a139439d-56e4-447b-baa6-7b2a6be53c08"
   },
   "outputs": [
    {
     "name": "stdout",
     "output_type": "stream",
     "text": [
      "1/1 [==============================] - 0s 20ms/step\n"
     ]
    },
    {
     "data": {
      "text/plain": [
       "'alt.atheism'"
      ]
     },
     "execution_count": 23,
     "metadata": {},
     "output_type": "execute_result"
    }
   ],
   "source": [
    "probabilities = end_to_end_model.predict(\n",
    "    [[\"we are talking about religion\"]]\n",
    ")\n",
    "\n",
    "class_names[np.argmax(probabilities[0])]"
   ]
  }
 ],
 "metadata": {
  "accelerator": "GPU",
  "colab": {
   "provenance": []
  },
  "gpuClass": "standard",
  "kernelspec": {
   "display_name": "Python 3",
   "language": "python",
   "name": "python3"
  },
  "language_info": {
   "codemirror_mode": {
    "name": "ipython",
    "version": 3
   },
   "file_extension": ".py",
   "mimetype": "text/x-python",
   "name": "python",
   "nbconvert_exporter": "python",
   "pygments_lexer": "ipython3",
   "version": "3.9.15"
  }
 },
 "nbformat": 4,
 "nbformat_minor": 1
}
